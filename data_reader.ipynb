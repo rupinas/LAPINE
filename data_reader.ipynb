{
 "cells": [
  {
   "cell_type": "code",
   "execution_count": 1,
   "metadata": {},
   "outputs": [],
   "source": [
    "import numpy as np\n",
    "import pandas as pd\n",
    "\n",
    "def stitch_flat_to_pubchem(cid):\n",
    "    assert cid.startswith('CID1')\n",
    "    return 'CIDm'+cid[4:]\n",
    "\n",
    "def stitch_stereo_to_pubchem(cid):\n",
    "    assert cid.startswith('CID0')\n",
    "    return 'CIDs'+cid[4:]\n",
    "\n",
    "def sider_reader():\n",
    "    se_columns = ['stitch_id_flat','stitch_id_stereo','umls_cui_from_label',\n",
    "                  'meddra_type','umls_cui_from_meddra','side_effect_name']\n",
    "    sider_raw_df = pd.read_csv('./data/drug_adr.tsv', delimiter='\\t', names=se_columns)\n",
    "    sider_raw_df['stitch_id_flat'] = sider_raw_df['stitch_id_flat'].apply(stitch_flat_to_pubchem)\n",
    "    sider_raw_df['stitch_id_stereo'] = sider_raw_df['stitch_id_stereo'].apply(stitch_stereo_to_pubchem)\n",
    "\n",
    "    sider_pt_df = sider_raw_df[sider_raw_df['meddra_type']=='PT']\n",
    "    drug_flat_set = set(sider_pt_df['stitch_id_flat'])\n",
    "    \n",
    "    return sider_pt_df, drug_flat_set\n",
    "\n",
    "def string_reader():\n",
    "    ppi_raw_df = pd.read_csv('./data/protein_protein.txt', delimiter=' ')\n",
    "    ppi_raw_df = ppi_raw_df[(ppi_raw_df['experiments']>0)|(ppi_raw_df['database']>0)]\n",
    "    ppi_df = ppi_raw_df[ppi_raw_df['combined_score']>700].copy()\n",
    "    \n",
    "    ppi_df['protein1'] = ppi_df['protein1'].apply(lambda x: x[5:])\n",
    "    ppi_df['protein2'] = ppi_df['protein2'].apply(lambda x: x[5:])\n",
    "    \n",
    "    protein_set = set(ppi_df['protein1']) | set(ppi_df['protein2'])\n",
    "    \n",
    "    return ppi_df, protein_set\n",
    "\n",
    "def stitch_reader(protein_set, SIDER_drug):\n",
    "    cpi_raw_df = pd.read_csv('./data/protein_chemical.tsv', delimiter='\\t')\n",
    "    cpi_raw_df = cpi_raw_df[(cpi_raw_df['experimental']>0)|(cpi_raw_df['database']>0)]\n",
    "    cpi_df = cpi_raw_df[cpi_raw_df['combined_score']>700].copy()\n",
    "\n",
    "    cpi_df['protein'] = cpi_df['protein'].apply(lambda x: x[5:])\n",
    "    cpi_df = cpi_df[cpi_df['chemical'].isin(SIDER_drug)]\n",
    "    \n",
    "    return cpi_df"
   ]
  }
 ],
 "metadata": {
  "kernelspec": {
   "display_name": "Python 3",
   "language": "python",
   "name": "python3"
  },
  "language_info": {
   "codemirror_mode": {
    "name": "ipython",
    "version": 3
   },
   "file_extension": ".py",
   "mimetype": "text/x-python",
   "name": "python",
   "nbconvert_exporter": "python",
   "pygments_lexer": "ipython3",
   "version": "3.7.3"
  }
 },
 "nbformat": 4,
 "nbformat_minor": 2
}
