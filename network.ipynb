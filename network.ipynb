{
 "cells": [
  {
   "cell_type": "code",
   "execution_count": null,
   "metadata": {},
   "outputs": [],
   "source": [
    "import numpy as np\n",
    "import pandas as pd\n",
    "import csv\n",
    "\n",
    "import import_ipynb\n",
    "from data_reader import *"
   ]
  },
  {
   "cell_type": "code",
   "execution_count": null,
   "metadata": {},
   "outputs": [],
   "source": [
    "def network_construction():\n",
    "    SIDER_df, SIDER_drug = sider_reader()\n",
    "    ppi_df, protein_set = string_reader()\n",
    "    cpi_df = stitch_reader(protein_set, SIDER_drug)\n",
    "\n",
    "    id_dict = dict(); current_id = 0\n",
    "    with open('./result/network.edgelist', 'w') as result:\n",
    "        for i, row in ppi_df.iterrows():\n",
    "            protein1 = 'REAL_'+row['protein1']\n",
    "            protein2 = 'REAL_'+row['protein2']\n",
    "\n",
    "            if protein1 not in id_dict: \n",
    "                id_dict[protein1] = current_id\n",
    "                current_id += 1\n",
    "\n",
    "            if protein2 not in id_dict: \n",
    "                id_dict[protein2] = current_id\n",
    "                current_id += 1\n",
    "\n",
    "            protein1_id = str(id_dict[protein1])\n",
    "            protein2_id = str(id_dict[protein2])\n",
    "\n",
    "            result.write(protein1_id+' '+protein2_id+'\\n')\n",
    "            result.write(protein2_id+' '+protein1_id+'\\n')\n",
    "\n",
    "        for i, row in cpi_df.iterrows():\n",
    "            if row['protein'] not in protein_set: continue \n",
    "            protein = 'REAL_'+row['protein']\n",
    "            drug = row['chemical']\n",
    "\n",
    "            if protein not in id_dict: \n",
    "                id_dict[protein] = current_id\n",
    "                current_id += 1\n",
    "\n",
    "            if drug not in id_dict: \n",
    "                id_dict[drug] = current_id\n",
    "                current_id += 1\n",
    "\n",
    "            protein_id = str(id_dict[protein])\n",
    "            drug_id = str(id_dict[drug])\n",
    "\n",
    "\n",
    "            result.write(drug_id+' '+protein_id+'\\n')\n",
    "\n",
    "        for protein in (protein_set): \n",
    "            STD = protein\n",
    "            protein = 'REAL_'+protein\n",
    "\n",
    "            if STD not in id_dict: \n",
    "                id_dict[STD] = current_id\n",
    "                current_id += 1\n",
    "\n",
    "            protein_id = str(id_dict[protein])\n",
    "            STD_id = str(id_dict[STD])\n",
    "\n",
    "            result.write(STD_id+' '+protein_id+'\\n')\n",
    "\n",
    "    np.save('./result/IDdict.npy', id_dict)"
   ]
  },
  {
   "cell_type": "code",
   "execution_count": null,
   "metadata": {},
   "outputs": [],
   "source": [
    "network_construction()"
   ]
  }
 ],
 "metadata": {
  "kernelspec": {
   "display_name": "Python 3",
   "language": "python",
   "name": "python3"
  },
  "language_info": {
   "codemirror_mode": {
    "name": "ipython",
    "version": 3
   },
   "file_extension": ".py",
   "mimetype": "text/x-python",
   "name": "python",
   "nbconvert_exporter": "python",
   "pygments_lexer": "ipython3",
   "version": "3.7.3"
  }
 },
 "nbformat": 4,
 "nbformat_minor": 2
}
