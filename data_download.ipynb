{
 "cells": [
  {
   "cell_type": "code",
   "execution_count": 1,
   "metadata": {},
   "outputs": [],
   "source": [
    "from requests import get\n",
    "import gzip\n",
    "import shutil\n",
    "\n",
    "def download(url, file_name):\n",
    "    with open(file_name,'wb') as file:  \n",
    "        response = get(url)             \n",
    "        file.write(response.content)\n",
    "        \n",
    "download('http://sideeffects.embl.de/media/download/meddra_all_se.tsv.gz', './data/drug_adr.gz')\n",
    "download('http://stitch.embl.de/download/protein_chemical.links.detailed.v5.0/9606.protein_chemical.links.detailed.v5.0.tsv.gz', './data/protein_chemical.gz')\n",
    "download('https://stringdb-static.org/download/protein.links.full.v11.5/9606.protein.links.full.v11.5.txt.gz', './data/protein_protein.gz')\n",
    "\n",
    "with gzip.open('./data/drug_adr.gz', 'rb') as f_in:\n",
    "    with open('./data/drug_adr.tsv', 'wb') as f_out:\n",
    "        shutil.copyfileobj(f_in, f_out)\n",
    "        \n",
    "with gzip.open('./data/protein_chemical.gz', 'rb') as f_in:\n",
    "    with open('./data/protein_chemical.tsv', 'wb') as f_out:\n",
    "        shutil.copyfileobj(f_in, f_out)\n",
    "        \n",
    "with gzip.open('./data/protein_protein.gz', 'rb') as f_in:\n",
    "    with open('./data/protein_protein.txt', 'wb') as f_out:\n",
    "        shutil.copyfileobj(f_in, f_out)"
   ]
  }
 ],
 "metadata": {
  "kernelspec": {
   "display_name": "Python 3",
   "language": "python",
   "name": "python3"
  },
  "language_info": {
   "codemirror_mode": {
    "name": "ipython",
    "version": 3
   },
   "file_extension": ".py",
   "mimetype": "text/x-python",
   "name": "python",
   "nbconvert_exporter": "python",
   "pygments_lexer": "ipython3",
   "version": "3.7.3"
  }
 },
 "nbformat": 4,
 "nbformat_minor": 2
}
