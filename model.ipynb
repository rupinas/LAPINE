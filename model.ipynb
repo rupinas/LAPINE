{
 "cells": [
  {
   "cell_type": "code",
   "execution_count": 1,
   "metadata": {},
   "outputs": [
    {
     "name": "stdout",
     "output_type": "stream",
     "text": [
      "importing Jupyter notebook from data_reader.ipynb\n"
     ]
    }
   ],
   "source": [
    "import pandas as pd\n",
    "import numpy as np\n",
    "\n",
    "from sklearn.linear_model import LogisticRegression as LR\n",
    "from sklearn.multiclass import OneVsRestClassifier as OVRC\n",
    "from sklearn.preprocessing import MultiLabelBinarizer\n",
    "\n",
    "import import_ipynb\n",
    "from data_reader import *"
   ]
  },
  {
   "cell_type": "code",
   "execution_count": 2,
   "metadata": {},
   "outputs": [],
   "source": [
    "def adr_training_data(SIDER_df, cpi_df, protein_set):\n",
    "    df = SIDER_df.groupby(['stitch_id_flat'])['umls_cui_from_meddra'].apply('|'.join)\n",
    "    drug_list = list()\n",
    "    adr_list = list()\n",
    "    mlb = MultiLabelBinarizer()\n",
    "\n",
    "    for i, v in df.iteritems():\n",
    "        drug_list.append(i)\n",
    "        adr_list.append(v.split('|'))\n",
    "    \n",
    "    adr_binarized = mlb.fit_transform(adr_list)\n",
    "    adr_header = list(mlb.classes_)\n",
    "    adr_raw_df = pd.DataFrame(adr_binarized, columns = adr_header, index=drug_list)\n",
    "    \n",
    "    # drug has target in stitch\n",
    "    adr_raw_df = adr_raw_df.loc[set(cpi_df[cpi_df['protein'].isin(protein_set)]['chemical']),:]\n",
    "    # ADR related at least one drug\n",
    "    adr_df = adr_raw_df.loc[:, adr_raw_df.sum()[adr_raw_df.sum()>=1].index]\n",
    "    \n",
    "    return adr_df\n",
    "\n",
    "def logistic_regression(X, Y, STC):\n",
    "    assert list(X.index) == list(Y.index)\n",
    "    \n",
    "    clf = OVRC(LR(C=0.1, solver='lbfgs', max_iter=10000))           \n",
    "    clf.fit(X, Y)\n",
    "    \n",
    "    Y_STC = clf.predict_proba(STC)\n",
    "    Y_STC_df = pd.DataFrame(Y_STC, index=STC.index, columns =Y.columns)\n",
    "    \n",
    "    return Y_STC_df\n",
    "\n",
    "def prediction():\n",
    "    SIDER_df, SIDER_drug = sider_reader()\n",
    "    ppi_df, protein_set = string_reader()\n",
    "    cpi_df = stitch_reader(protein_set, SIDER_drug)\n",
    "    \n",
    "    id_data = np.load('./result/IDdict.npy', allow_pickle='TRUE').item()\n",
    "    id_dict = {y:x for x,y in id_data.items()}\n",
    "    \n",
    "    emb_raw_df = pd.read_csv('./result/emb.txt', delimiter=' ', skiprows = 1, header=None)\n",
    "    emb_raw_df[0] = emb_raw_df[0].apply(lambda x : id_dict[x])\n",
    "    emb_raw_df.set_index(0, inplace=True)\n",
    "    \n",
    "    adr_df = adr_training_data(SIDER_df, cpi_df, protein_set)\n",
    "    drug_df = emb_raw_df.loc[adr_df.index,:]\n",
    "    STC_df = emb_raw_df.loc[protein_set,:]\n",
    "    \n",
    "    result_df = logistic_regression(drug_df, adr_df, STC_df)\n",
    "    result_df.to_csv('./result/prediction.csv')"
   ]
  },
  {
   "cell_type": "code",
   "execution_count": 3,
   "metadata": {},
   "outputs": [],
   "source": [
    "prediction()"
   ]
  }
 ],
 "metadata": {
  "kernelspec": {
   "display_name": "Python 3",
   "language": "python",
   "name": "python3"
  },
  "language_info": {
   "codemirror_mode": {
    "name": "ipython",
    "version": 3
   },
   "file_extension": ".py",
   "mimetype": "text/x-python",
   "name": "python",
   "nbconvert_exporter": "python",
   "pygments_lexer": "ipython3",
   "version": "3.7.3"
  }
 },
 "nbformat": 4,
 "nbformat_minor": 2
}
